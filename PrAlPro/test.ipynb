{
 "cells": [
  {
   "cell_type": "code",
   "execution_count": null,
   "metadata": {},
   "outputs": [],
   "source": [
    "#nilai kurs USD ke IDR\n",
    "kursUSD = 15765\n",
    "\n",
    "# informasi program\n",
    "print(\"Program USD ke IDR\")\n",
    "print(\"Info Kurs USD ke IDR :\\n1 USD =\", kursUSD, \"IDR\")\n",
    "\n",
    "#input\n",
    "jumlahusd = float(input(\"Masukkan jumlah uang yang ditukar : \"))\n",
    "dalamrupiah= jumlahusd*kursUSD\n",
    "\n",
    "# output\n",
    "print(\"Hasil Konversi = Rp.\", dalamrupiah)"
   ]
  },
  {
   "cell_type": "code",
   "execution_count": 3,
   "metadata": {},
   "outputs": [
    {
     "name": "stdout",
     "output_type": "stream",
     "text": [
      "59\n",
      "2045\n"
     ]
    }
   ],
   "source": [
    "# Tahun Lahir\n",
    "tahun_Lahir = 1965\n",
    "# tahun sekarang\n",
    "year_now = 2024\n",
    "\n",
    "# usia saat 2023\n",
    "years2023=year_now-tahun_Lahir\n",
    "print(years2023)\n",
    "\n",
    "# tahun saat usia 80 tahun\n",
    "year80= tahun_Lahir+80\n",
    "print(year80)"
   ]
  }
 ],
 "metadata": {
  "kernelspec": {
   "display_name": "Python 3",
   "language": "python",
   "name": "python3"
  },
  "language_info": {
   "codemirror_mode": {
    "name": "ipython",
    "version": 3
   },
   "file_extension": ".py",
   "mimetype": "text/x-python",
   "name": "python",
   "nbconvert_exporter": "python",
   "pygments_lexer": "ipython3",
   "version": "3.11.1"
  }
 },
 "nbformat": 4,
 "nbformat_minor": 2
}
