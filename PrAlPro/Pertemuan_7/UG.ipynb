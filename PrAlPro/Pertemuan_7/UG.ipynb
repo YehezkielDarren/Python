{
 "cells": [
  {
   "cell_type": "markdown",
   "metadata": {},
   "source": [
    "Max Deret (Case Sensitive)"
   ]
  },
  {
   "cell_type": "code",
   "execution_count": 4,
   "metadata": {},
   "outputs": [
    {
     "data": {
      "text/plain": [
       "1"
      ]
     },
     "execution_count": 4,
     "metadata": {},
     "output_type": "execute_result"
    }
   ],
   "source": [
    "def Max_deret(string :str, kata_yang_dicari:str)-> int:\n",
    "    \"\"\"_summary_\n",
    "\n",
    "    Args:\n",
    "        string (str): Berisi sebuah string yang harus berupa alfabet\n",
    "        kata_yang_dicari (str): Sebuah kata yang menjadi acuan\n",
    "\n",
    "    Returns:\n",
    "        int: Maksimal kata yang muncul berdekatan sesuai dengan kata_yang_dicari\n",
    "    NOTE: \n",
    "    BERSIFAT CASE SENSITIVE\n",
    "    \"\"\"\n",
    "    min_count=0\n",
    "    max_count=0\n",
    "    for i in range(len(string)):\n",
    "        j=i\n",
    "        for j in range(i,len(string)+1):\n",
    "            if string[j]==kata_yang_dicari:\n",
    "                min_count+=1\n",
    "            else:\n",
    "                break\n",
    "        if min_count> max_count:\n",
    "            max_count=min_count\n",
    "        min_count=0\n",
    "    return max_count\n",
    "\n",
    "Max_deret(\"AAAAaaBBBACcD\",\"c\")"
   ]
  },
  {
   "cell_type": "markdown",
   "metadata": {},
   "source": [
    "Hapus Alfabet Berlebih"
   ]
  },
  {
   "cell_type": "code",
   "execution_count": 2,
   "metadata": {},
   "outputs": [
    {
     "data": {
      "text/plain": [
       "'abca'"
      ]
     },
     "execution_count": 2,
     "metadata": {},
     "output_type": "execute_result"
    }
   ],
   "source": [
    "def hapus_alfa_berlebih(kata :str)-> str:\n",
    "    kata=kata.lower()\n",
    "    kata_baru=\"\"\n",
    "    for i,alpha in enumerate(kata):\n",
    "        if alpha==kata[i-1]:\n",
    "            if alpha not in kata_baru:\n",
    "                kata_baru+=alpha\n",
    "        else:\n",
    "            kata_baru+=alpha\n",
    "    return kata_baru\n",
    "\n",
    "hapus_alfa_berlebih(\"AAAAabbBbCCAa\")"
   ]
  },
  {
   "cell_type": "markdown",
   "metadata": {},
   "source": [
    "Operasi String"
   ]
  },
  {
   "cell_type": "code",
   "execution_count": 8,
   "metadata": {},
   "outputs": [
    {
     "name": "stdout",
     "output_type": "stream",
     "text": [
      "operator bukan penjumlahan\n"
     ]
    }
   ],
   "source": [
    "def penjumlahanString(kata: str)-> str:\n",
    "    kata=kata.split()\n",
    "    if kata[1]==\"+\":\n",
    "        hasil=kata[0]+kata[-1]\n",
    "        print(hasil)\n",
    "    else:\n",
    "        print(\"operator bukan penjumlahan\")\n",
    "\n",
    "penjumlahanString(\"##### - ##\")"
   ]
  },
  {
   "cell_type": "markdown",
   "metadata": {},
   "source": [
    "Menghitung Poin String Alfabet"
   ]
  },
  {
   "cell_type": "code",
   "execution_count": null,
   "metadata": {},
   "outputs": [],
   "source": [
    "def hitungPoin():\n",
    "    pass"
   ]
  }
 ],
 "metadata": {
  "kernelspec": {
   "display_name": "Python 3",
   "language": "python",
   "name": "python3"
  },
  "language_info": {
   "codemirror_mode": {
    "name": "ipython",
    "version": 3
   },
   "file_extension": ".py",
   "mimetype": "text/x-python",
   "name": "python",
   "nbconvert_exporter": "python",
   "pygments_lexer": "ipython3",
   "version": "3.11.1"
  }
 },
 "nbformat": 4,
 "nbformat_minor": 2
}
