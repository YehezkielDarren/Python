{
 "cells": [
  {
   "cell_type": "markdown",
   "metadata": {},
   "source": [
    "Latihan 1"
   ]
  },
  {
   "cell_type": "code",
   "execution_count": 23,
   "metadata": {},
   "outputs": [
    {
     "name": "stdout",
     "output_type": "stream",
     "text": [
      "mata adalah anagram dari atam\n"
     ]
    }
   ],
   "source": [
    "def anagram()-> None:\n",
    "    first_word=input().lower() #input : mata\n",
    "    sec_word=input().lower() #input : tama\n",
    "    for i in first_word:\n",
    "        for j in sec_word:\n",
    "            if i==j:\n",
    "                break\n",
    "        else:\n",
    "            print(f\"{first_word} adalah bukan anagram dari {sec_word}\")\n",
    "            break\n",
    "    else:\n",
    "        print(f\"{first_word} adalah anagram dari {sec_word}\")\n",
    "        \n",
    "anagram()"
   ]
  },
  {
   "cell_type": "markdown",
   "metadata": {},
   "source": [
    "Latihan 2"
   ]
  },
  {
   "cell_type": "code",
   "execution_count": 37,
   "metadata": {},
   "outputs": [
    {
     "name": "stdout",
     "output_type": "stream",
     "text": [
      "Kata berenang muncul sebanyak 3\n"
     ]
    }
   ],
   "source": [
    "def kemunculan_kata(lst :list, kata:str)->int:\n",
    "    pencarian=lst.split(\" \")\n",
    "    hasil=0\n",
    "    for i in pencarian:\n",
    "        if kata in i:\n",
    "            hasil+=1\n",
    "    \n",
    "    return hasil\n",
    "\n",
    "        \n",
    "    \n",
    "\n",
    "kalimat=input(\"masukkan sebuah paragraf : \").lower() #Saya mau makan. Makan itu wajib. Mau siang atau malam saya wajib makan\n",
    "kata_yang_dicari=input(\"apa kata yang ingin dicari ? \").lower() #makan\n",
    "\n",
    "print(f\"Kata {kata_yang_dicari} muncul sebanyak {kemunculan_kata(kalimat,kata_yang_dicari)}\")"
   ]
  },
  {
   "cell_type": "markdown",
   "metadata": {},
   "source": [
    "Latihan 3"
   ]
  },
  {
   "cell_type": "code",
   "execution_count": 52,
   "metadata": {},
   "outputs": [
    {
     "name": "stdout",
     "output_type": "stream",
     "text": [
      "A quick brown fox jumps over the lazy dog\n"
     ]
    }
   ],
   "source": [
    "def spasi_Normal(kata :str)-> None:\n",
    "    kata1=kata.split(\" \")\n",
    "    for _ in kata1:\n",
    "        kata1=[x for x in kata1 if x.isalnum()]\n",
    "        hasil=\" \".join(kata1)\n",
    "        hasil=hasil.strip()\n",
    "    print(hasil)\n",
    "\n",
    "sebuah_kata=input(\"masukkan sebuah kalimat : \")\n",
    "spasi_Normal(sebuah_kata)"
   ]
  },
  {
   "cell_type": "code",
   "execution_count": 55,
   "metadata": {},
   "outputs": [
    {
     "name": "stdout",
     "output_type": "stream",
     "text": [
      "d o g .\n"
     ]
    }
   ],
   "source": [
    "def ambil_kata_kalimat(kalimat):\n",
    "    kalimat = kalimat.lower() #ubah huruf kecil\n",
    "    hasil_akhir = [] #siapkan tempat hasil\n",
    "    hasil = kalimat.split()\n",
    "    tmp = []#pecah berdasarkan spasi\n",
    "    for i in range (0,len(hasil)): #loop per hasil pecah\n",
    "        tmp = ' '.join(hasil[i]) #ambil per indeks #tambahkan ke list\n",
    "\n",
    "    return tmp #return\n",
    "text = 'A quick brown fox jumps over the lazy dog.'\n",
    "\n",
    "print(ambil_kata_kalimat(text))"
   ]
  }
 ],
 "metadata": {
  "kernelspec": {
   "display_name": "Python 3",
   "language": "python",
   "name": "python3"
  },
  "language_info": {
   "codemirror_mode": {
    "name": "ipython",
    "version": 3
   },
   "file_extension": ".py",
   "mimetype": "text/x-python",
   "name": "python",
   "nbconvert_exporter": "python",
   "pygments_lexer": "ipython3",
   "version": "3.10.11"
  }
 },
 "nbformat": 4,
 "nbformat_minor": 2
}
