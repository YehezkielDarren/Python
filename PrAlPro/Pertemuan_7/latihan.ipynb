{
 "cells": [
  {
   "cell_type": "code",
   "execution_count": null,
   "metadata": {},
   "outputs": [],
   "source": [
    "sentence=\"LOREM IPSUM DOLOR SIT AMET, CONSECTETUR ADIPISCING ELIT. NULLAM CONGUE ELEMENTUM FELIS, NEC VARIUS DUI VARIUS AT. NULLAM TURPIS TORTOR, SOLLICITUDIN ET MI AT, LAOREET SEMPER LECTUS. NULLA QUIS NISI ALIQUET, SAGITTIS NULLA SED, SEMPER VELIT. FUSCE PORTA FACILISIS EX AC CONDIMENTUM. DONEC IN METUS FINIBUS, MAXIMUS ORCI QUIS, VEHICULA AUGUE. MAURIS VEL EX CURSUS, FACILISIS LACUS ET, ULTRICIES ODIO. VIVAMUS ERAT VELIT, MOLESTIE ET RISUS SED, FACILISIS VEHICULA ARCU. SED UT LOREM AT DOLOR DIGNISSIM LACINIA VITAE VITAE NEQUE. MAURIS TEMPOR FERMENTUM ARCU, FERMENTUM EGESTAS ANTE FINIBUS SED. NULLA VITAE INTERDUM ORCI. DONEC ULTRICES FRINGILLA MOLLIS. MORBI PELLENTESQUE ALIQUET NISL. QUISQUE UT FACILISIS NISL. PELLENTESQUE MAGNA EROS, DICTUM VEL ANTE SED, FACILISIS CONGUE TURPIS. DONEC HENDRERIT GRAVIDA ODIO CONSEQUAT FINIBUS.\"\n",
    "new_sent=\"\"\n",
    "for i in sentence:\n",
    "    if i ==\"A\":\n",
    "        new_sent+=\"E\"\n",
    "    elif i==\"E\":\n",
    "        new_sent+=\"A\"\n",
    "    else:\n",
    "        new_sent+=i\n",
    "\n",
    "print(new_sent)"
   ]
  },
  {
   "cell_type": "code",
   "execution_count": null,
   "metadata": {},
   "outputs": [],
   "source": [
    "def palindrom(word1=\"Lamal\")->bool:\n",
    "    word1=word1.lower()\n",
    "    for i in range(len(word1)):\n",
    "        if word1[i]!=word1[-1-i]:\n",
    "            break\n",
    "    else:\n",
    "        return True\n",
    "    return False\n",
    "\n",
    "palindrom()"
   ]
  },
  {
   "cell_type": "code",
   "execution_count": null,
   "metadata": {},
   "outputs": [],
   "source": [
    "word1=\"kasur api    \"\n",
    "word2=\"i    pa rusak\"\n",
    "if sorted(word1.replace(\" \",\"\").lower())==sorted(word2.replace(\" \",\"\").lower()):\n",
    "    print(\"This is anagram\")\n",
    "else:\n",
    "    print(\"This is not anagram\")\n"
   ]
  }
 ],
 "metadata": {
  "language_info": {
   "name": "python"
  }
 },
 "nbformat": 4,
 "nbformat_minor": 2
}
