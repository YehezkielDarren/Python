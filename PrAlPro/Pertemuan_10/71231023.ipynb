{
 "cells": [
  {
   "cell_type": "markdown",
   "metadata": {},
   "source": [
    "Soal 1"
   ]
  },
  {
   "cell_type": "code",
   "execution_count": 12,
   "metadata": {},
   "outputs": [
    {
     "name": "stdout",
     "output_type": "stream",
     "text": [
      "3 Nilai Terbaik : [91, 88, 86]\n"
     ]
    }
   ],
   "source": [
    "def thirdbest(arr):\n",
    "    arr.sort(reverse=True)\n",
    "    return f\"3 Nilai Terbaik : {arr[:3]}\"\n",
    "\n",
    "nilai=[86, -80, -49, 18, 56, 11, 7, 91, 30, -7, 4, -25, 83, 48, -96, 88, -23, 20, -18, -5]\n",
    "print(thirdbest(nilai))"
   ]
  },
  {
   "cell_type": "markdown",
   "metadata": {},
   "source": [
    "Soal 2"
   ]
  },
  {
   "cell_type": "code",
   "execution_count": 3,
   "metadata": {},
   "outputs": [
    {
     "name": "stdout",
     "output_type": "stream",
     "text": [
      "Isi data : [9, 10, -2, -100, 10, 100, 80, 75]\n",
      "Nilai Max : 100; Nilai Min : -100\n"
     ]
    }
   ],
   "source": [
    "def max_min(n :int):\n",
    "    list_temp=[]\n",
    "    while n!=0:\n",
    "        try:\n",
    "            angka=int(input(\"Masukkan satu angka integer : \"))\n",
    "        except ValueError:\n",
    "            print(\"Anda bukan memasukkan sebuah bilangan\")\n",
    "            continue\n",
    "        n-=1\n",
    "        list_temp.append(angka)\n",
    "    return f\"Isi data : {list_temp}\\nNilai Max : {max(list_temp)}; Nilai Min : {min(list_temp)}\"\n",
    "\n",
    "anggota=int(input(\"Masukkan total anggota integer : \"))\n",
    "print(max_min(anggota))"
   ]
  },
  {
   "cell_type": "markdown",
   "metadata": {},
   "source": [
    "Soal 3"
   ]
  },
  {
   "cell_type": "code",
   "execution_count": 27,
   "metadata": {},
   "outputs": [
    {
     "name": "stdout",
     "output_type": "stream",
     "text": [
      "======ISI BERITA======\n",
      "Pertandingan pekan kelima MPL S13 akan menjadi momen pertarungan sengit antar tim papan atas. Salah satu laga yang paling ditunggu adalah \"Derby Klasik\" antara RRQ Hoshi dan Evos Legends, yang akan tersaji pada Sabtu (20/4/2024). Kedua tim ini memiliki rivalitas panjang dan selalu menghadirkan pertandingan penuh gengsi dan aksi memukau. Pertandingan ini diprediksi akan menjadi pertarungan sengit dan menarik untuk disaksikan.\n",
      "======KATA======\n",
      "['pertandingan', 'pekan', 'kelima', 'mpl', 's13', 'akan', 'menjadi', 'momen', 'pertarungan', 'sengit', 'antar', 'tim', 'papan', 'atas', 'salah', 'satu', 'laga', 'yang', 'paling', 'ditunggu', 'adalah', 'derby', 'klasik', 'antara', 'rrq', 'hoshi', 'dan', 'evos', 'legends', 'yang', 'akan', 'tersaji', 'pada', 'sabtu', '20/4/2024', 'kedua', 'tim', 'ini', 'memiliki', 'rivalitas', 'panjang', 'dan', 'selalu', 'menghadirkan', 'pertandingan', 'penuh', 'gengsi', 'dan', 'aksi', 'memukau', 'pertandingan', 'ini', 'diprediksi', 'akan', 'menjadi', 'pertarungan', 'sengit', 'dan', 'menarik', 'untuk', 'disaksikan']\n"
     ]
    }
   ],
   "source": [
    "def kataUnik_berita():\n",
    "    with open(\"teks_berita.txt\",\"r\") as f:\n",
    "        handle=f.read()\n",
    "    print(f\"======ISI BERITA======\\n{handle}\")\n",
    "    sentence=handle.split(\".\")\n",
    "    kata_unik=[]\n",
    "    for i in sentence:\n",
    "        word=i.split()\n",
    "        for j in word:\n",
    "            j=j.strip(\",\").strip(\"(\").strip(\")\").strip('\"').strip().lower()\n",
    "            if handle.count(j)>1 and handle.count(j)<1:\n",
    "                continue\n",
    "            else:\n",
    "                kata_unik.append(j)\n",
    "    print(f\"======KATA======\\n{kata_unik}\")\n",
    "\n",
    "kataUnik_berita()"
   ]
  },
  {
   "cell_type": "code",
   "execution_count": 22,
   "metadata": {},
   "outputs": [
    {
     "name": "stdout",
     "output_type": "stream",
     "text": [
      "Unique words in the article:\n",
      "pertandingan\n",
      "pekan\n",
      "kelima\n",
      "mpl\n",
      "s13\n",
      "akan\n",
      "menjadi\n",
      "momen\n",
      "pertarungan\n",
      "sengit\n",
      "antar\n",
      "tim\n",
      "papan\n",
      "atas\n",
      "salah\n",
      "satu\n",
      "laga\n",
      "yang\n",
      "paling\n",
      "ditunggu\n",
      "adalah\n",
      "\"derby\n",
      "klasik\"\n",
      "antara\n",
      "rrq\n",
      "hoshi\n",
      "dan\n",
      "evos\n",
      "legends\n",
      "tersaji\n",
      "pada\n",
      "sabtu\n",
      "20/4/2024\n",
      "kedua\n",
      "ini\n",
      "memiliki\n",
      "rivalitas\n",
      "panjang\n",
      "selalu\n",
      "menghadirkan\n",
      "penuh\n",
      "gengsi\n",
      "aksi\n",
      "memukau\n",
      "diprediksi\n",
      "menarik\n",
      "untuk\n",
      "disaksikan\n"
     ]
    }
   ],
   "source": [
    "# Read the content of the text file\n",
    "with open('teks_berita.txt', 'r') as file:\n",
    "    content = file.read()\n",
    "\n",
    "# Split the content into sentences\n",
    "sentences = content.split('.')\n",
    "\n",
    "# Initialize an empty list to store unique words\n",
    "unique_words = []\n",
    "\n",
    "# Iterate over each sentence\n",
    "for sentence in sentences:\n",
    "    # Split the sentence into words\n",
    "    words = sentence.split()\n",
    "\n",
    "    # Iterate over each word\n",
    "    for word in words:\n",
    "        # Remove punctuation and convert to lowercase\n",
    "        word = word.strip(',').strip('(').strip(')').strip().lower()\n",
    "\n",
    "        # Check if the word is not already in the unique_words list\n",
    "        if word not in unique_words:\n",
    "            # Add the word to the unique_words list\n",
    "            unique_words.append(word)\n",
    "\n",
    "# Print the unique words\n",
    "print(\"Unique words in the article:\")\n",
    "for word in unique_words:\n",
    "    print(word)"
   ]
  }
 ],
 "metadata": {
  "kernelspec": {
   "display_name": "Python 3",
   "language": "python",
   "name": "python3"
  },
  "language_info": {
   "codemirror_mode": {
    "name": "ipython",
    "version": 3
   },
   "file_extension": ".py",
   "mimetype": "text/x-python",
   "name": "python",
   "nbconvert_exporter": "python",
   "pygments_lexer": "ipython3",
   "version": "3.11.1"
  }
 },
 "nbformat": 4,
 "nbformat_minor": 2
}
