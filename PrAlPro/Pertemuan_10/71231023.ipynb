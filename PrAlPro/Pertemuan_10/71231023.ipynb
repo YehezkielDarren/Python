{
 "cells": [
  {
   "cell_type": "markdown",
   "metadata": {},
   "source": [
    "Soal 1"
   ]
  },
  {
   "cell_type": "code",
   "execution_count": 36,
   "metadata": {},
   "outputs": [
    {
     "name": "stdout",
     "output_type": "stream",
     "text": [
      "3 Nilai Terbaik : [99, 20, 19]\n"
     ]
    }
   ],
   "source": [
    "def thirdbest(arr):\n",
    "    arr.sort()\n",
    "    return f\"3 Nilai Terbaik : {arr[-1:-4:-1]}\"\n",
    "\n",
    "nilai=[8,19,20,3,4,2,99]\n",
    "print(thirdbest(nilai))"
   ]
  }
 ],
 "metadata": {
  "kernelspec": {
   "display_name": "Python 3",
   "language": "python",
   "name": "python3"
  },
  "language_info": {
   "codemirror_mode": {
    "name": "ipython",
    "version": 3
   },
   "file_extension": ".py",
   "mimetype": "text/x-python",
   "name": "python",
   "nbconvert_exporter": "python",
   "pygments_lexer": "ipython3",
   "version": "3.10.6"
  }
 },
 "nbformat": 4,
 "nbformat_minor": 2
}
