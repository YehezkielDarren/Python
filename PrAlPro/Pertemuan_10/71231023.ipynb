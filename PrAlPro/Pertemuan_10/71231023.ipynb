{
 "cells": [
  {
   "cell_type": "markdown",
   "metadata": {},
   "source": [
    "Soal 1"
   ]
  },
  {
   "cell_type": "code",
   "execution_count": 2,
   "metadata": {},
   "outputs": [
    {
     "name": "stdout",
     "output_type": "stream",
     "text": [
      "3 Nilai Terbaik : 91,88,86\n"
     ]
    }
   ],
   "source": [
    "def thirdbest(arr):\n",
    "    arr.sort(reverse=True)\n",
    "    return f\"3 Nilai Terbaik : {arr[0]},{arr[1]},{arr[2]}\"\n",
    "\n",
    "nilai=[86, -80, -49, 18, 56, 11, 7, 91, 30, -7, 4, -25, 83, 48, -96, 88, -23, 20, -18, -5]\n",
    "print(thirdbest(nilai))"
   ]
  },
  {
   "cell_type": "markdown",
   "metadata": {},
   "source": [
    "Soal 2"
   ]
  },
  {
   "cell_type": "code",
   "execution_count": 3,
   "metadata": {},
   "outputs": [
    {
     "name": "stdout",
     "output_type": "stream",
     "text": [
      "Isi data : [9, 10, -2, -100, 10, 100, 80, 75]\n",
      "Nilai Max : 100; Nilai Min : -100\n"
     ]
    }
   ],
   "source": [
    "def max_min(n :int):\n",
    "    list_temp=[]\n",
    "    while n!=0:\n",
    "        try:\n",
    "            angka=int(input(\"Masukkan satu angka integer : \"))\n",
    "        except ValueError:\n",
    "            print(\"Anda bukan memasukkan sebuah bilangan\")\n",
    "            continue\n",
    "        n-=1\n",
    "        list_temp.append(angka)\n",
    "    return f\"Isi data : {list_temp}\\nNilai Max : {max(list_temp)}; Nilai Min : {min(list_temp)}\"\n",
    "\n",
    "anggota=int(input(\"Masukkan total anggota integer : \"))\n",
    "print(max_min(anggota))"
   ]
  },
  {
   "cell_type": "markdown",
   "metadata": {},
   "source": [
    "Soal 3"
   ]
  },
  {
   "cell_type": "code",
   "execution_count": 32,
   "metadata": {},
   "outputs": [
    {
     "name": "stdout",
     "output_type": "stream",
     "text": [
      "======ISI BERITA======\n",
      "Presiden Joko Widodo (Jokowi) menegaskan kembali bahwa Pemilu 2024 harus digelar sesuai dengan jadwal yang telah ditetapkan, yaitu pada 14 Februari 2024. Jokowi menekankan bahwa tidak ada penundaan Pemilu 2024, dan semua pihak harus menghormati konstitusi dan demokrasi. 'Pemilu harus dilaksanakan sesuai dengan jadwal yang telah ditetapkan. Tidak ada penundaan,' tegas Jokowi dalam sambutannya pada Rapat Koordinasi Nasional (Rakornas) Pemenangan Pemilu Partai Politik Koalisi Indonesia Bersatu (KIB) di Istana Negara, Jakarta.\n",
      "======KATA======\n",
      "['presiden', 'joko', 'widodo', 'menegaskan', 'kembali', 'digelar', 'yaitu', '14', 'februari', 'menekankan', 'penundaan', 'semua', 'pihak', 'menghormati', 'konstitusi', 'demokrasi', 'dilaksanakan', 'penundaan,', 'tegas', 'dalam', 'sambutannya', 'rapat', 'koordinasi', 'nasional', 'rakornas', 'pemenangan', 'partai', 'politik', 'koalisi', 'indonesia', 'bersatu', 'kib', 'di', 'istana', 'negara', 'jakarta']\n"
     ]
    }
   ],
   "source": [
    "def kataUnik_berita():\n",
    "    with open(\"teks_berita.txt\",\"r\") as f:\n",
    "        handle=f.read()\n",
    "    print(f\"======ISI BERITA======\\n{handle}\")\n",
    "    kata_kata=handle.split()\n",
    "    kata_unik=[]\n",
    "    for kata1 in kata_kata:\n",
    "        count=0\n",
    "        kata1=kata1.strip(\",\").strip(\"(\").strip(\")\").strip(\".\").strip(\"'\").strip().lower()\n",
    "        for kata2 in kata_kata:\n",
    "            kata2=kata2.strip(\",\").strip(\"(\").strip(\")\").strip(\".\").strip(\"'\").strip().lower()\n",
    "            if kata1==kata2:\n",
    "                count+=1\n",
    "        if count==1:\n",
    "            kata_unik.append(kata1)\n",
    "    print(f\"======KATA======\\n{kata_unik}\")\n",
    "\n",
    "kataUnik_berita()"
   ]
  }
 ],
 "metadata": {
  "kernelspec": {
   "display_name": "Python 3",
   "language": "python",
   "name": "python3"
  },
  "language_info": {
   "codemirror_mode": {
    "name": "ipython",
    "version": 3
   },
   "file_extension": ".py",
   "mimetype": "text/x-python",
   "name": "python",
   "nbconvert_exporter": "python",
   "pygments_lexer": "ipython3",
   "version": "3.11.1"
  }
 },
 "nbformat": 4,
 "nbformat_minor": 2
}
