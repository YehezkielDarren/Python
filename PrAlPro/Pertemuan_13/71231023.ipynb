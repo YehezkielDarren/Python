{
 "cells": [
  {
   "cell_type": "markdown",
   "metadata": {},
   "source": [
    "Soal 1"
   ]
  },
  {
   "cell_type": "code",
   "execution_count": null,
   "metadata": {},
   "outputs": [],
   "source": [
    "n=int(input(\"Masukkan Jumlah Kagetori : \"))\n",
    "dict_aplikasi={}\n",
    "for i in range(n):\n",
    "    kategori=input(f\"Masukkan Nama Kategori ke-{i+1} : \")\n",
    "    data_apl=[]\n",
    "    for i in range(5):\n",
    "        nama_aplks=input(f\"Masukkan Nama Aplikasi di {kategori}: \")\n",
    "        data_apl.append(nama_aplks)\n",
    "    dict_aplikasi[kategori]=data_apl\n",
    "\n",
    "print(dict_aplikasi)"
   ]
  }
 ],
 "metadata": {
  "language_info": {
   "name": "python"
  }
 },
 "nbformat": 4,
 "nbformat_minor": 2
}
