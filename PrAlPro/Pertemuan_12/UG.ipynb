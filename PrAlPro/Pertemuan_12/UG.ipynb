{
 "cells": [
  {
   "cell_type": "code",
   "execution_count": 4,
   "metadata": {},
   "outputs": [
    {
     "name": "stdout",
     "output_type": "stream",
     "text": [
      "aisbusx\n"
     ]
    }
   ],
   "source": [
    "#soal1\n",
    "def bosan(daftar:tuple):\n",
    "    hasil=\"\"\n",
    "    for i,name in enumerate(daftar):\n",
    "        try:\n",
    "            hasil+=name[-1-i]\n",
    "        except IndexError:\n",
    "            hasil+=\"x\"\n",
    "    print(hasil)\n",
    "#test-case\n",
    "bosan((\"Yusta\",\"Monic\",\"Claresta\",\"Elisabeth\",\"Agustin\",\"Anastasya\",\"Wijaya\"))"
   ]
  },
  {
   "cell_type": "code",
   "execution_count": null,
   "metadata": {},
   "outputs": [],
   "source": [
    "#soal2\n",
    "def databuku(data):\n",
    "    for book in data:\n",
    "        for desc in book:\n",
    "            if type(desc)==int:\n",
    "                tahun=desc\n",
    "            elif desc.isupper():\n",
    "                penulis=desc\n",
    "            else:\n",
    "                judul=desc\n",
    "        print(judul,\"\\n\",tahun,\"\\n\",penulis)\n",
    "        \n",
    "databuku()"
   ]
  },
  {
   "cell_type": "code",
   "execution_count": 16,
   "metadata": {},
   "outputs": [
    {
     "name": "stdout",
     "output_type": "stream",
     "text": [
      "(1, (9, 10), 2, (5, 2), 4, 5, 6, 7)\n",
      "((9,), 2, (2,), 5, 6, (7, 2), 8, 9, (10, 11))\n"
     ]
    }
   ],
   "source": [
    "#soal3\n",
    "def hapus(data,angka):\n",
    "    ans=[]\n",
    "    for num1 in data:\n",
    "        if type(num1)==tuple:\n",
    "            a=[]\n",
    "            for num2 in num1:\n",
    "                if num2!=angka:\n",
    "                    a.append(num2)\n",
    "            ans.append(tuple(a))\n",
    "        else:\n",
    "            if num1!=angka:\n",
    "                ans.append(num1)\n",
    "    print(tuple(ans))\n",
    "    \n",
    "hapus((1,(3,9,10),2,(5,2,3),3,4,5,6,7),3)\n",
    "hapus((((3,9),2,3,(2,3),5,6,(7,2),8,9,(10,11))),3) ## output :  ((9,), 2, (2,), 5, 6, (7, 2), 8, 9, (10, 11))"
   ]
  },
  {
   "cell_type": "code",
   "execution_count": 9,
   "metadata": {},
   "outputs": [
    {
     "name": "stdout",
     "output_type": "stream",
     "text": [
      "1 lembar senilai Rp. 100000\n",
      "1 lembar senilai Rp. 20000\n",
      "2 lembar senilai Rp. 50000\n",
      "1 lembar senilai Rp. 10000\n",
      "1 lembar senilai Rp. 5000\n",
      "235000\n"
     ]
    }
   ],
   "source": [
    "#soal4\n",
    "def hitung(dompet:tuple):\n",
    "    uang=dict()\n",
    "    total=0\n",
    "    for money in dompet:\n",
    "        if money in uang.keys():\n",
    "            uang[money]+=1\n",
    "        else:\n",
    "            uang[money]=1\n",
    "    for keys, value in uang.items():\n",
    "        print(f\"{value} lembar senilai {keys}\")\n",
    "        total+=int(keys[4:])*value\n",
    "    print(total)\n",
    "    \n",
    "hitung((\"Rp. 100000\",\"Rp. 20000\",\"Rp. 50000\",\"Rp. 50000\",\"Rp. 10000\",\"Rp. 5000\"))"
   ]
  },
  {
   "cell_type": "code",
   "execution_count": 12,
   "metadata": {},
   "outputs": [
    {
     "name": "stdout",
     "output_type": "stream",
     "text": [
      "Michael\n",
      "Miny2\n",
      "Miboli3\n",
      "Mautin4\n"
     ]
    }
   ],
   "source": [
    "#soal5\n",
    "def inisial(daftar):\n",
    "    dict_nama=dict()\n",
    "    for nama in daftar:\n",
    "        if nama[0]in dict_nama:\n",
    "            dict_nama[nama[0]]+=1\n",
    "            print(f\"{nama}{dict_nama[nama[0]]}\")\n",
    "        else:\n",
    "            dict_nama[nama[0]]=1\n",
    "            print(nama)\n",
    "\n",
    "inisial((\"Michael\",\"Miny\",\"Miboli\",\"Mautin\"))\n"
   ]
  },
  {
   "cell_type": "code",
   "execution_count": 14,
   "metadata": {},
   "outputs": [
    {
     "name": "stdout",
     "output_type": "stream",
     "text": [
      "Buku dengan judul Renungan Harian sejumlah 2 buku\n",
      "Buku dengan judul Matematika sejumlah 1 buku\n",
      "Buku dengan judul Sains sejumlah 2 buku\n",
      "Buku dengan judul Jaringan sejumlah 2 buku\n",
      "Buku dengan judul Pemrograman sejumlah 1 buku\n",
      "Buku dengan judul Majalah Perjodohan sejumlah 1 buku\n",
      "Total buku di dalam lemari adalah : 9 buku\n"
     ]
    }
   ],
   "source": [
    "def hitung(dompet):\n",
    "    dict_buku=dict()\n",
    "    total=0\n",
    "    for buku in dompet:\n",
    "        if buku in dict_buku.keys():\n",
    "            dict_buku[buku]+=1\n",
    "        else:\n",
    "            dict_buku[buku]=1\n",
    "    for keys, value in dict_buku.items():\n",
    "        print(f\"Buku dengan judul {keys} sejumlah {value} buku\")\n",
    "        total+=value\n",
    "    print(f\"Total buku di dalam lemari adalah : {total} buku\")\n",
    "\n",
    "hitung((\n",
    "    \"Renungan Harian\",\"Matematika\",\"Sains\",\"Jaringan\",\"Pemrograman\",\n",
    "    \"Renungan Harian\",\"Sains\",\"Jaringan\",\"Majalah Perjodohan\"\n",
    "    ))"
   ]
  }
 ],
 "metadata": {
  "kernelspec": {
   "display_name": "Python 3",
   "language": "python",
   "name": "python3"
  },
  "language_info": {
   "codemirror_mode": {
    "name": "ipython",
    "version": 3
   },
   "file_extension": ".py",
   "mimetype": "text/x-python",
   "name": "python",
   "nbconvert_exporter": "python",
   "pygments_lexer": "ipython3",
   "version": "3.11.1"
  }
 },
 "nbformat": 4,
 "nbformat_minor": 2
}
