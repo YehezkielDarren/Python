{
 "cells": [
  {
   "cell_type": "markdown",
   "metadata": {},
   "source": [
    "Soal 1"
   ]
  },
  {
   "cell_type": "code",
   "execution_count": 2,
   "metadata": {},
   "outputs": [
    {
     "name": "stdout",
     "output_type": "stream",
     "text": [
      "3 Data Terbesar >> 23, 20, 18\n"
     ]
    }
   ],
   "source": [
    "def BigThree(angka:list):\n",
    "    angka.sort(reverse=True)\n",
    "    return angka[:3]\n",
    "\n",
    "# Example usage\n",
    "data = [20,18,23,1,9,2,5,2]\n",
    "data1,data2,data3=BigThree(data)\n",
    "print(f\"3 Data Terbesar >> {data1}, {data2}, {data3}\")\n"
   ]
  },
  {
   "cell_type": "markdown",
   "metadata": {},
   "source": [
    "Soal 2"
   ]
  },
  {
   "cell_type": "code",
   "execution_count": 12,
   "metadata": {},
   "outputs": [
    {
     "ename": "ValueError",
     "evalue": "invalid literal for int() with base 10: 'done'",
     "output_type": "error",
     "traceback": [
      "\u001b[1;31m---------------------------------------------------------------------------\u001b[0m",
      "\u001b[1;31mValueError\u001b[0m                                Traceback (most recent call last)",
      "Cell \u001b[1;32mIn[12], line 10\u001b[0m\n\u001b[0;32m      8\u001b[0m             \u001b[38;5;28;01mbreak\u001b[39;00m\n\u001b[0;32m      9\u001b[0m     \u001b[38;5;28;01mreturn\u001b[39;00m \u001b[38;5;124mf\u001b[39m\u001b[38;5;124m\"\u001b[39m\u001b[38;5;124mIsi data : \u001b[39m\u001b[38;5;132;01m{\u001b[39;00mlist_temp\u001b[38;5;132;01m}\u001b[39;00m\u001b[38;5;130;01m\\n\u001b[39;00m\u001b[38;5;124mNilai Max : \u001b[39m\u001b[38;5;132;01m{\u001b[39;00m\u001b[38;5;28mmax\u001b[39m(list_temp)\u001b[38;5;132;01m}\u001b[39;00m\u001b[38;5;124m; Nilai Min : \u001b[39m\u001b[38;5;132;01m{\u001b[39;00m\u001b[38;5;28mmin\u001b[39m(list_temp)\u001b[38;5;132;01m}\u001b[39;00m\u001b[38;5;124m\"\u001b[39m\n\u001b[1;32m---> 10\u001b[0m \u001b[38;5;28mprint\u001b[39m(\u001b[43mmax_min\u001b[49m\u001b[43m(\u001b[49m\u001b[43m)\u001b[49m)\n",
      "Cell \u001b[1;32mIn[12], line 4\u001b[0m, in \u001b[0;36mmax_min\u001b[1;34m()\u001b[0m\n\u001b[0;32m      2\u001b[0m list_temp\u001b[38;5;241m=\u001b[39m[]\n\u001b[0;32m      3\u001b[0m \u001b[38;5;28;01mwhile\u001b[39;00m \u001b[38;5;28;01mTrue\u001b[39;00m:\n\u001b[1;32m----> 4\u001b[0m     inputan\u001b[38;5;241m=\u001b[39m\u001b[38;5;28;43mint\u001b[39;49m\u001b[43m(\u001b[49m\u001b[38;5;28;43minput\u001b[39;49m\u001b[43m(\u001b[49m\u001b[38;5;124;43m\"\u001b[39;49m\u001b[38;5;124;43mmasukkan sebuah angka : \u001b[39;49m\u001b[38;5;124;43m\"\u001b[39;49m\u001b[43m)\u001b[49m\u001b[43m)\u001b[49m\n\u001b[0;32m      5\u001b[0m     done_or_no\u001b[38;5;241m=\u001b[39m\u001b[38;5;28minput\u001b[39m(\u001b[38;5;124m\"\u001b[39m\u001b[38;5;124mketik \u001b[39m\u001b[38;5;124m'\u001b[39m\u001b[38;5;124mdone\u001b[39m\u001b[38;5;124m'\u001b[39m\u001b[38;5;124m untuk selesai (enter untuk mengabaikan) : \u001b[39m\u001b[38;5;124m\"\u001b[39m)\u001b[38;5;241m.\u001b[39mlower()\n\u001b[0;32m      6\u001b[0m     list_temp\u001b[38;5;241m.\u001b[39mappend(\u001b[38;5;28mint\u001b[39m(inputan))\n",
      "\u001b[1;31mValueError\u001b[0m: invalid literal for int() with base 10: 'done'"
     ]
    }
   ],
   "source": [
    "def max_min():\n",
    "    list_temp=[]\n",
    "    while True:\n",
    "        inputan=input(\"masukkan sebuah angka/'done' untuk selesai : \")\n",
    "        try:\n",
    "            angka=int(inputan)\n",
    "            list_temp.append(angka)\n",
    "        except ValueError:\n",
    "            if inputan.lower()=='done':\n",
    "                break\n",
    "    return f\"Isi data : {list_temp}\\nNilai Max : {max(list_temp)}; Nilai Min : {min(list_temp)}\"\n",
    "print(max_min())"
   ]
  },
  {
   "cell_type": "markdown",
   "metadata": {},
   "source": [
    "Soal 3"
   ]
  },
  {
   "cell_type": "code",
   "execution_count": 32,
   "metadata": {},
   "outputs": [
    {
     "name": "stdout",
     "output_type": "stream",
     "text": [
      "======ISI BERITA======\n",
      "Presiden Joko Widodo (Jokowi) menegaskan kembali bahwa Pemilu 2024 harus digelar sesuai dengan jadwal yang telah ditetapkan, yaitu pada 14 Februari 2024. Jokowi menekankan bahwa tidak ada penundaan Pemilu 2024, dan semua pihak harus menghormati konstitusi dan demokrasi. 'Pemilu harus dilaksanakan sesuai dengan jadwal yang telah ditetapkan. Tidak ada penundaan,' tegas Jokowi dalam sambutannya pada Rapat Koordinasi Nasional (Rakornas) Pemenangan Pemilu Partai Politik Koalisi Indonesia Bersatu (KIB) di Istana Negara, Jakarta.\n",
      "======KATA======\n",
      "['presiden', 'joko', 'widodo', 'menegaskan', 'kembali', 'digelar', 'yaitu', '14', 'februari', 'menekankan', 'penundaan', 'semua', 'pihak', 'menghormati', 'konstitusi', 'demokrasi', 'dilaksanakan', 'penundaan,', 'tegas', 'dalam', 'sambutannya', 'rapat', 'koordinasi', 'nasional', 'rakornas', 'pemenangan', 'partai', 'politik', 'koalisi', 'indonesia', 'bersatu', 'kib', 'di', 'istana', 'negara', 'jakarta']\n"
     ]
    }
   ],
   "source": [
    "def kataUnik_berita():\n",
    "    with open(\"teks_berita.txt\",\"r\") as f:\n",
    "        handle=f.read()\n",
    "    print(f\"======ISI BERITA======\\n{handle}\")\n",
    "    kata_kata=handle.split()\n",
    "    kata_unik=[]\n",
    "    for kata1 in kata_kata:\n",
    "        count=0\n",
    "        kata1=kata1.strip(\",\").strip(\"(\").strip(\")\").strip(\".\").strip(\"'\").strip().lower()\n",
    "        for kata2 in kata_kata:\n",
    "            kata2=kata2.strip(\",\").strip(\"(\").strip(\")\").strip(\".\").strip(\"'\").strip().lower()\n",
    "            if kata1==kata2:\n",
    "                count+=1\n",
    "        if count==1:\n",
    "            kata_unik.append(kata1)\n",
    "    print(f\"======KATA======\\n{kata_unik}\")\n",
    "\n",
    "kataUnik_berita()"
   ]
  }
 ],
 "metadata": {
  "kernelspec": {
   "display_name": "Python 3",
   "language": "python",
   "name": "python3"
  },
  "language_info": {
   "codemirror_mode": {
    "name": "ipython",
    "version": 3
   },
   "file_extension": ".py",
   "mimetype": "text/x-python",
   "name": "python",
   "nbconvert_exporter": "python",
   "pygments_lexer": "ipython3",
   "version": "3.11.1"
  }
 },
 "nbformat": 4,
 "nbformat_minor": 2
}
