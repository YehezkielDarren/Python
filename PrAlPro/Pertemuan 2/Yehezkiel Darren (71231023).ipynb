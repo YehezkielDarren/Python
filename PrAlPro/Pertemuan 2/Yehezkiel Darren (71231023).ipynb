{
 "cells": [
  {
   "cell_type": "markdown",
   "metadata": {},
   "source": [
    "1. BMI"
   ]
  },
  {
   "cell_type": "code",
   "execution_count": 11,
   "metadata": {},
   "outputs": [
    {
     "name": "stdout",
     "output_type": "stream",
     "text": [
      "Program Body Mass Index\n",
      "Your Mass : 55.00 Kg\n",
      "Your Height : 1.75 Meter\n",
      "BMI is : 17.96\n"
     ]
    }
   ],
   "source": [
    "print(\"Program Body Mass Index\")\n",
    "your_mass= float(input(\"Input Your Mass in Kg :\"))\n",
    "your_height= float(input(\"Input Your Height in Meter :\"))\n",
    "\n",
    "def BMI(x,y):\n",
    "    return x/(y**2)\n",
    "\n",
    "final = float(BMI(your_mass,your_height))\n",
    "print(\"Your Mass : %.2f Kg\\nYour Height : %.2f Meter\\nBMI is : %.2f\"%(your_mass,your_height,final))"
   ]
  },
  {
   "cell_type": "markdown",
   "metadata": {},
   "source": [
    "2. Persamaan Aljabar"
   ]
  },
  {
   "cell_type": "code",
   "execution_count": 20,
   "metadata": {},
   "outputs": [
    {
     "name": "stdout",
     "output_type": "stream",
     "text": [
      "x : 10\n",
      "The Result is 2021.5\n"
     ]
    }
   ],
   "source": [
    "x = int(input(\"Input x : \"))\n",
    "\n",
    "formula = 2*(x**3)+ 2*x +15/x\n",
    "\n",
    "print(\"x :\",x)\n",
    "print(\"The Result is\",formula)"
   ]
  },
  {
   "cell_type": "markdown",
   "metadata": {},
   "source": [
    "3. Liburan Musim Panas Budi"
   ]
  },
  {
   "cell_type": "code",
   "execution_count": 3,
   "metadata": {},
   "outputs": [
    {
     "name": "stdout",
     "output_type": "stream",
     "text": [
      "Program Menghitung Pendapatan Budi Selama Liburan Musim Panas\n",
      "================================================================================\n"
     ]
    },
    {
     "name": "stdout",
     "output_type": "stream",
     "text": [
      "Pendapatan Budi selama 5 minggu dengan :\n",
      "Gaji Rp.150000 dan Total Jam Kerja dalam  Seminggu 15 Jam \n",
      "1. BELUM KENA PAJAK : Rp.11250000.00\n",
      "2. KENA PAJAK : Rp.9675000.00\n",
      "Pengeluaran Budi :\n",
      "1. Baju dan Aksesoris : Rp.967500.00\n",
      "2. Alat Tulis : Rp.96750.00\n",
      "3. Sedekah : RP.2152687.50\n",
      "\t3a. Sedekah untuk Yatim : Rp.1506400.00\n",
      "\t3b. Sedekah untuk Dhuafa : Rp.645600.00\n"
     ]
    }
   ],
   "source": [
    "print(\"Program Menghitung Pendapatan Budi Selama Liburan Musim Panas\")\n",
    "print(\"=\"*80)\n",
    "#input\n",
    "salary=int(input(\"Masukkan gaji per jam Budi : \"))\n",
    "work_hours=float(input(\"Masukkan jam kerja Budi dalam seminggu : \"))\n",
    "\n",
    "#Function Pendapatan Setelah kena Pajak\n",
    "def taxSalary(x):\n",
    "    return x*(1-0.14)\n",
    "\n",
    "#Function Pendapatan Sebelum kena Pajak\n",
    "def noTax(x,y,z):\n",
    "    return x*(y*z)\n",
    "\n",
    "#Waktu yang diperlukan\n",
    "num_Weeks=5\n",
    "\n",
    "#Pendapatan BELUM KENA PAJAK\n",
    "gross= noTax(salary,work_hours,num_Weeks)\n",
    "\n",
    "#Pendapatan KENA PAJAK\n",
    "netIncome= taxSalary(gross)\n",
    "\n",
    "#Pengeluaran Pendapatan\n",
    "Accesories= netIncome*0.1 #Pengeluaran untuk baju dan aksesoris\n",
    "stationery= netIncome*0.01 #Pengeluaran untuk alat tulis\n",
    "\n",
    "#Sisa pendapatan pertama\n",
    "ResidualSalary= netIncome-(Accesories+stationery)\n",
    "\n",
    "#Sedekah\n",
    "Charity = ResidualSalary*0.25\n",
    "poorPeople = 0 \n",
    "YteamPeople =0 \n",
    "#While Loops\n",
    "i =ResidualSalary*0.25\n",
    "while i>= 1000:\n",
    "    poorPeople+=700\n",
    "    YteamPeople+=300\n",
    "    i-=1000\n",
    "\n",
    "\n",
    "#Print\n",
    "print(\"Pendapatan Budi selama 5 minggu dengan :\\nGaji Rp.%d dan Total Jam Kerja dalam  Seminggu %d Jam \" %(salary,work_hours))\n",
    "print(\"1. BELUM KENA PAJAK : Rp.%.2f\" %gross)\n",
    "print(\"2. KENA PAJAK : Rp.%.2f\" %netIncome)\n",
    "print(\"Pengeluaran Budi :\")\n",
    "print(\"1. Baju dan Aksesoris : Rp.%.2f\" %Accesories)\n",
    "print(\"2. Alat Tulis : Rp.%.2f\" %stationery)\n",
    "print(\"3. Sedekah : RP.%.2f\" %Charity)\n",
    "print(\"\\t3a. Sedekah untuk Yatim : Rp.%.2f\" %poorPeople)\n",
    "print(\"\\t3b. Sedekah untuk Dhuafa : Rp.%.2f\" %YteamPeople)\n",
    "\n"
   ]
  }
 ],
 "metadata": {
  "kernelspec": {
   "display_name": "Python 3",
   "language": "python",
   "name": "python3"
  },
  "language_info": {
   "codemirror_mode": {
    "name": "ipython",
    "version": 3
   },
   "file_extension": ".py",
   "mimetype": "text/x-python",
   "name": "python",
   "nbconvert_exporter": "python",
   "pygments_lexer": "ipython3",
   "version": "3.11.1"
  }
 },
 "nbformat": 4,
 "nbformat_minor": 2
}
