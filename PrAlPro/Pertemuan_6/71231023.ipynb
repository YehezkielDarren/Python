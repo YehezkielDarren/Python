{
 "cells": [
  {
   "cell_type": "markdown",
   "metadata": {},
   "source": [
    "1. Bil Prima Terdekat"
   ]
  },
  {
   "cell_type": "code",
   "execution_count": 19,
   "metadata": {},
   "outputs": [
    {
     "name": "stdout",
     "output_type": "stream",
     "text": [
      "Bilangan prima terdekat dari 3 adalah 2\n"
     ]
    }
   ],
   "source": [
    "def prime():\n",
    "    _target=int(input(\"Insert One Number : \"))\n",
    "    if _target>2: #true condtional\n",
    "        for i in range(_target-1,1,-1): #outer loops => for number. decreasing number  \n",
    "            #using \"_target-1\" bcs we will search the nearest prime number not included with the inputed number\n",
    "            _statement=True\n",
    "            for j in range(2,int(i**0.5)+1): #inner loop => square root of i \n",
    "                #if there are no _statement = false, then the outer loops won't iterate\n",
    "                if i%j==0: \n",
    "                    _statement=False\n",
    "                    break #go to outer loop\n",
    "                \n",
    "            if _statement: #conditional\n",
    "                print(f\"Bilangan prima terdekat dari {_target} adalah {i}\") #get in if _statement is true\n",
    "                break #terminate the outer loop\n",
    "    else: #false condtional\n",
    "        print(f\"Tidak ada bilangan prima terdekat dari {_target}\")\n",
    "prime() #function executed"
   ]
  },
  {
   "cell_type": "markdown",
   "metadata": {},
   "source": [
    "2. Segitiga Faktorial"
   ]
  },
  {
   "cell_type": "code",
   "execution_count": 20,
   "metadata": {},
   "outputs": [
    {
     "name": "stdout",
     "output_type": "stream",
     "text": [
      "3628800 10 9 8 7 6 5 4 3 2 1\n",
      "362880 9 8 7 6 5 4 3 2 1\n",
      "40320 8 7 6 5 4 3 2 1\n",
      "5040 7 6 5 4 3 2 1\n",
      "720 6 5 4 3 2 1\n",
      "120 5 4 3 2 1\n",
      "24 4 3 2 1\n",
      "6 3 2 1\n",
      "2 2 1\n",
      "1 1\n"
     ]
    }
   ],
   "source": [
    "def TriFaktorial():\n",
    "    n=int(input(\"Input number of integer : \")) #input value\n",
    "    for i in range(n, 0,-1): #outer loop\n",
    "        #temp and faktorial will be reset\n",
    "        temp=[] #temporary storage for counter in inner loop\n",
    "        faktorial=1 #factorial of all counter in inner loop\n",
    "        for j in range(i, 0, -1): #outer loop => generating start from highest to lowest\n",
    "            faktorial*=j\n",
    "            temp.append(j)\n",
    "        print(faktorial, *temp) #print the value on inner loop\n",
    "      \n",
    "TriFaktorial() #function executed"
   ]
  },
  {
   "cell_type": "markdown",
   "metadata": {},
   "source": [
    "3. Deret Kotak"
   ]
  },
  {
   "cell_type": "code",
   "execution_count": 16,
   "metadata": {},
   "outputs": [
    {
     "name": "stdout",
     "output_type": "stream",
     "text": [
      "1 2 3 4 \n",
      "5 6 7 8 \n",
      "9 10 11 12 \n",
      "13 14 15 16 \n",
      "17 18 19 20 \n"
     ]
    }
   ],
   "source": [
    "def kotak():\n",
    "    #input section\n",
    "    pjg=int(input(\"Insert height : \"))\n",
    "    lbar=int(input(\"Insert width : \"))\n",
    "    \n",
    "    index=1\n",
    "    for _ in range(1,pjg+1): #outer loop\n",
    "        for _ in range(1,lbar+1): #inner loop\n",
    "            print(index, end=\" \")\n",
    "            index+=1 #iterate \n",
    "        print()\n",
    "        #next step for outer loop\n",
    "kotak() #function executed"
   ]
  }
 ],
 "metadata": {
  "kernelspec": {
   "display_name": "Python 3",
   "language": "python",
   "name": "python3"
  },
  "language_info": {
   "codemirror_mode": {
    "name": "ipython",
    "version": 3
   },
   "file_extension": ".py",
   "mimetype": "text/x-python",
   "name": "python",
   "nbconvert_exporter": "python",
   "pygments_lexer": "ipython3",
   "version": "3.11.1"
  }
 },
 "nbformat": 4,
 "nbformat_minor": 2
}
