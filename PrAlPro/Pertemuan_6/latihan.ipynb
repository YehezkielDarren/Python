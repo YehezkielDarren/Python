{
 "cells": [
  {
   "cell_type": "markdown",
   "metadata": {},
   "source": [
    "Latihan Praktikum 1"
   ]
  },
  {
   "cell_type": "code",
   "execution_count": 3,
   "metadata": {},
   "outputs": [
    {
     "name": "stdout",
     "output_type": "stream",
     "text": [
      "1 \n",
      "2 2 \n",
      "3 3 3 \n"
     ]
    }
   ],
   "source": [
    "num=int(input())\n",
    "\n",
    "for i in range(1,num+1):\n",
    "    for j in range(1,i+1):\n",
    "        print(i, end=\" \")\n",
    "    print()"
   ]
  },
  {
   "cell_type": "code",
   "execution_count": 6,
   "metadata": {},
   "outputs": [
    {
     "name": "stdout",
     "output_type": "stream",
     "text": [
      "X \n",
      "X 0 \n",
      "X 0 X \n",
      "X 0 X 0 \n",
      "X 0 X 0 X \n"
     ]
    }
   ],
   "source": [
    "num=int(input())\n",
    "i=1\n",
    "while i<=num:\n",
    "    j=1\n",
    "    while j<=i:\n",
    "        if j%2==0:\n",
    "            print(\"0\", end=' ')\n",
    "        else:\n",
    "            print(\"X\", end=\" \")\n",
    "        j+=1\n",
    "    i+=1\n",
    "    print()"
   ]
  },
  {
   "cell_type": "markdown",
   "metadata": {},
   "source": [
    "Latihan 2"
   ]
  },
  {
   "cell_type": "code",
   "execution_count": 5,
   "metadata": {},
   "outputs": [
    {
     "name": "stdout",
     "output_type": "stream",
     "text": [
      "1 2 3 4 5 \n",
      "5 4 3 2 1 \n",
      "1 2 3 4 5 \n",
      "5 4 3 2 1 \n",
      "1 2 3 4 5 \n"
     ]
    }
   ],
   "source": [
    "num=int(input())\n",
    "\n",
    "for i in range(1,num+1):\n",
    "    if i%2!=0:\n",
    "        for j in range(1, num+1):\n",
    "            print(j, end=\" \")\n",
    "    else:\n",
    "        for z in range(num,0,-1):\n",
    "            print(z, end=\" \")\n",
    "    print()"
   ]
  },
  {
   "cell_type": "markdown",
   "metadata": {},
   "source": [
    "Latihan 3"
   ]
  },
  {
   "cell_type": "code",
   "execution_count": 8,
   "metadata": {},
   "outputs": [
    {
     "name": "stdout",
     "output_type": "stream",
     "text": [
      "X 0 X 0 X \n",
      "X 0 X 0 \n",
      "X 0 X \n",
      "X 0 \n",
      "X \n"
     ]
    }
   ],
   "source": [
    "num=int(input())\n",
    "\n",
    "for i in range(num, 0,-1):\n",
    "    for j in range(1,i+1):\n",
    "        if j%2==0:\n",
    "            print(\"0\", end=' ')\n",
    "        else:\n",
    "            print(\"X\", end=\" \")\n",
    "    print()"
   ]
  },
  {
   "cell_type": "markdown",
   "metadata": {},
   "source": [
    "Latihan 4"
   ]
  },
  {
   "cell_type": "code",
   "execution_count": 4,
   "metadata": {},
   "outputs": [
    {
     "name": "stdout",
     "output_type": "stream",
     "text": [
      "                  * \n",
      "                * * \n",
      "              * * * \n",
      "            * * * * \n",
      "          * * * * * \n",
      "        * * * * * * \n",
      "      * * * * * * * \n",
      "    * * * * * * * * \n",
      "  * * * * * * * * * \n",
      "* * * * * * * * * * \n"
     ]
    }
   ],
   "source": [
    "num=int(input())\n",
    "\n",
    "for i in range(1,num+1):\n",
    "    for j in range(num, 0,-1):\n",
    "        if j <= i :\n",
    "            print(\"*\", end=\" \")\n",
    "        elif j>i:\n",
    "            print(\" \", end=\" \")\n",
    "    print()"
   ]
  }
 ],
 "metadata": {
  "kernelspec": {
   "display_name": "Python 3",
   "language": "python",
   "name": "python3"
  },
  "language_info": {
   "codemirror_mode": {
    "name": "ipython",
    "version": 3
   },
   "file_extension": ".py",
   "mimetype": "text/x-python",
   "name": "python",
   "nbconvert_exporter": "python",
   "pygments_lexer": "ipython3",
   "version": "3.10.11"
  }
 },
 "nbformat": 4,
 "nbformat_minor": 2
}
