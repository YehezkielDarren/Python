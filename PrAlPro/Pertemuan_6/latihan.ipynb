{
 "cells": [
  {
   "cell_type": "markdown",
   "metadata": {},
   "source": [
    "Latihan Praktikum 1"
   ]
  },
  {
   "cell_type": "code",
   "execution_count": 3,
   "metadata": {},
   "outputs": [
    {
     "name": "stdout",
     "output_type": "stream",
     "text": [
      "1 \n",
      "2 2 \n",
      "3 3 3 \n"
     ]
    }
   ],
   "source": [
    "num=int(input())\n",
    "\n",
    "for i in range(1,num+1):\n",
    "    for j in range(1,i+1):\n",
    "        print(i, end=\" \")\n",
    "    print()"
   ]
  },
  {
   "cell_type": "code",
   "execution_count": 6,
   "metadata": {},
   "outputs": [
    {
     "name": "stdout",
     "output_type": "stream",
     "text": [
      "X \n",
      "X 0 \n",
      "X 0 X \n",
      "X 0 X 0 \n",
      "X 0 X 0 X \n"
     ]
    }
   ],
   "source": [
    "num=int(input())\n",
    "i=1\n",
    "while i<=num:\n",
    "    j=1\n",
    "    while j<=i:\n",
    "        if j%2==0:\n",
    "            print(\"0\", end=' ')\n",
    "        else:\n",
    "            print(\"X\", end=\" \")\n",
    "        j+=1\n",
    "    i+=1\n",
    "    print()"
   ]
  },
  {
   "cell_type": "markdown",
   "metadata": {},
   "source": [
    "Latihan 2"
   ]
  },
  {
   "cell_type": "code",
   "execution_count": 5,
   "metadata": {},
   "outputs": [
    {
     "name": "stdout",
     "output_type": "stream",
     "text": [
      "1 2 3 4 5 \n",
      "5 4 3 2 1 \n",
      "1 2 3 4 5 \n",
      "5 4 3 2 1 \n",
      "1 2 3 4 5 \n"
     ]
    }
   ],
   "source": [
    "num=int(input())\n",
    "\n",
    "for i in range(1,num+1):\n",
    "    if i%2!=0:\n",
    "        for j in range(1, num+1):\n",
    "            print(j, end=\" \")\n",
    "    else:\n",
    "        for z in range(num,0,-1):\n",
    "            print(z, end=\" \")\n",
    "    print()"
   ]
  },
  {
   "cell_type": "markdown",
   "metadata": {},
   "source": [
    "Latihan 3"
   ]
  },
  {
   "cell_type": "code",
   "execution_count": 8,
   "metadata": {},
   "outputs": [
    {
     "name": "stdout",
     "output_type": "stream",
     "text": [
      "X 0 X 0 X \n",
      "X 0 X 0 \n",
      "X 0 X \n",
      "X 0 \n",
      "X \n"
     ]
    }
   ],
   "source": [
    "num=int(input())\n",
    "\n",
    "for i in range(num, 0,-1):\n",
    "    for j in range(1,i+1):\n",
    "        if j%2==0:\n",
    "            print(\"0\", end=' ')\n",
    "        else:\n",
    "            print(\"X\", end=\" \")\n",
    "    print()"
   ]
  },
  {
   "cell_type": "markdown",
   "metadata": {},
   "source": [
    "Latihan 4"
   ]
  },
  {
   "cell_type": "code",
   "execution_count": 4,
   "metadata": {},
   "outputs": [
    {
     "name": "stdout",
     "output_type": "stream",
     "text": [
      "                  * \n",
      "                * * \n",
      "              * * * \n",
      "            * * * * \n",
      "          * * * * * \n",
      "        * * * * * * \n",
      "      * * * * * * * \n",
      "    * * * * * * * * \n",
      "  * * * * * * * * * \n",
      "* * * * * * * * * * \n"
     ]
    }
   ],
   "source": [
    "#dalam bentuk perulangan for\n",
    "num=int(input())\n",
    "\n",
    "for i in range(1,num+1):\n",
    "    for j in range(num, 0,-1):\n",
    "        if j <= i :\n",
    "            print(\"*\", end=\" \")\n",
    "        elif j>i:\n",
    "            print(\" \", end=\" \")\n",
    "    print()"
   ]
  },
  {
   "cell_type": "code",
   "execution_count": 13,
   "metadata": {},
   "outputs": [
    {
     "name": "stdout",
     "output_type": "stream",
     "text": [
      "                        * \n",
      "                      * * \n",
      "                    * * * \n",
      "                  * * * * \n",
      "                * * * * * \n",
      "              * * * * * * \n",
      "            * * * * * * * \n",
      "          * * * * * * * * \n",
      "        * * * * * * * * * \n",
      "      * * * * * * * * * * \n",
      "    * * * * * * * * * * * \n",
      "  * * * * * * * * * * * * \n",
      "* * * * * * * * * * * * * \n"
     ]
    }
   ],
   "source": [
    "#dalam bentuk while\n",
    "num=int(input())\n",
    "i=1\n",
    "while i <=num:\n",
    "    j=num\n",
    "    while j>0:\n",
    "        if j <= i :\n",
    "            print(\"*\", end=\" \")\n",
    "        elif j>i:\n",
    "            print(\" \", end=\" \")\n",
    "        j-=1\n",
    "    i+=1\n",
    "    print()\n"
   ]
  },
  {
   "cell_type": "code",
   "execution_count": 18,
   "metadata": {},
   "outputs": [
    {
     "name": "stdout",
     "output_type": "stream",
     "text": [
      "mr. owl ate my metal worm = True \n"
     ]
    }
   ],
   "source": [
    "\n",
    "def palindrom():\n",
    "    kata=input(\"masukkan suatu kalimat\").lower()\n",
    "    words= \"\".join(x for x in kata if x.isalnum()) #checking if each char is a alphanum or not\n",
    "    for word in range(0,(len(words)//2)):\n",
    "        if words[word]!=words[len(words)-word-1]:\n",
    "            print(f\"{kata} = False \")\n",
    "            break\n",
    "    else:\n",
    "        print(f\"{kata} = True \")\n",
    "\n",
    "palindrom()"
   ]
  },
  {
   "cell_type": "code",
   "execution_count": 22,
   "metadata": {},
   "outputs": [
    {
     "name": "stdout",
     "output_type": "stream",
     "text": [
      "0 1 1 2 3 5 8 13 21 34 = 88\n"
     ]
    }
   ],
   "source": [
    "#Fibonacci\n",
    "def fibonacci(suku):\n",
    "    if suku<=0:\n",
    "        return \"error\"\n",
    "    elif suku==1:\n",
    "        return 0\n",
    "    elif suku==2:\n",
    "        return 1\n",
    "    suku1, suku2 = 0,1\n",
    "    for fib in range(3,suku+1):\n",
    "        temp=suku1+suku2\n",
    "        suku1=suku2\n",
    "        suku2=temp\n",
    "    return temp\n",
    "\n",
    "def tampil_fibonacci(suku):\n",
    "    totalFibonacci=0\n",
    "    for i in range(1, suku+1):\n",
    "        x=fibonacci(i)\n",
    "        totalFibonacci+=x\n",
    "        print(x, end=\" \")\n",
    "    print(f\"= {totalFibonacci}\")\n",
    "        \n",
    "        \n",
    "def main():\n",
    "    n=int(input(\"masukkan jumlah suku fibonacci : \"))\n",
    "    tampil_fibonacci(n)\n",
    "    \n",
    "if __name__==\"__main__\":\n",
    "    main()\n",
    "        \n",
    "        "
   ]
  },
  {
   "cell_type": "code",
   "execution_count": 26,
   "metadata": {},
   "outputs": [
    {
     "data": {
      "text/plain": [
       "784"
      ]
     },
     "execution_count": 26,
     "metadata": {},
     "output_type": "execute_result"
    }
   ],
   "source": [
    "def cubeSum():\n",
    "    index=int(input(\"Masukkan Satu Angka : \"))\n",
    "    hasil=0\n",
    "    for num in range(1, index+1):\n",
    "        total=num**3\n",
    "        hasil+=total\n",
    "    return hasil\n",
    "\n",
    "cubeSum()"
   ]
  },
  {
   "cell_type": "code",
   "execution_count": 31,
   "metadata": {},
   "outputs": [
    {
     "data": {
      "text/plain": [
       "1"
      ]
     },
     "execution_count": 31,
     "metadata": {},
     "output_type": "execute_result"
    }
   ],
   "source": [
    "def findMissing(arr, index):\n",
    "    total=index*(index+1)/2\n",
    "    for num in range(index-1):\n",
    "        total-=arr[num]\n",
    "    final=int(total)\n",
    "    return final\n",
    "\n",
    "findMissing([5,2,4,3],5)   "
   ]
  },
  {
   "cell_type": "code",
   "execution_count": 34,
   "metadata": {},
   "outputs": [
    {
     "data": {
      "text/plain": [
       "15"
      ]
     },
     "execution_count": 34,
     "metadata": {},
     "output_type": "execute_result"
    }
   ],
   "source": [
    "def kthSmallest(arr:list,k):\n",
    "    arr.sort()\n",
    "    K=arr[k-1]\n",
    "    return K\n",
    "\n",
    "kthSmallest([7,10,4,20,15],4)"
   ]
  },
  {
   "cell_type": "markdown",
   "metadata": {},
   "source": [
    "                                                            CODE UG PERTEMUAN 6                                                                         "
   ]
  },
  {
   "cell_type": "code",
   "execution_count": 3,
   "metadata": {},
   "outputs": [
    {
     "name": "stdout",
     "output_type": "stream",
     "text": [
      "#######\n",
      "   #   \n",
      "   #   \n",
      "   #   \n"
     ]
    }
   ],
   "source": [
    "\n",
    "def capitalt(tinggi :int, panjang :int):\n",
    "    if (tinggi>=2)and (panjang>=3)and (panjang%2==1): #panjang/baris harus minimal 2 dan merupakan bilangan ganjil. tinggi/kolom minimal 3\n",
    "        for i in range(tinggi): #outer loop untuk setiap kolom\n",
    "            if i ==0: #kondisi ketika i merupakan suku awal, print semua #\n",
    "                for y in range(panjang):\n",
    "                    print(\"#\", end=\"\")\n",
    "            else:\n",
    "                for z in range(panjang):\n",
    "                    if z==panjang//2:\n",
    "                        print(\"#\", end=\"\")\n",
    "                    else:\n",
    "                        print(\" \", end=\"\")\n",
    "            print()\n",
    "    else:\n",
    "        print(\"dimensi tidak sesuai\")\n",
    "        \n",
    "capitalt(4,7)"
   ]
  },
  {
   "cell_type": "code",
   "execution_count": 3,
   "metadata": {},
   "outputs": [
    {
     "name": "stdout",
     "output_type": "stream",
     "text": [
      "51 50 49 48 47 46 45 44 43 42 41 40 39 38 37 36 35 34 33 32 31 30 29 28 27 26 25 24 23 22 21 20 19 18 17 16 15 14 13 12 11 10 9 8 7 6 5 4 3 2 1 2 3 4 5 6 7 8 9 10 11 12 13 14 15 16 17 18 19 20 21 22 23 24 25 26 27 28 29 30 31 32 33 34 35 36 37 38 39 40 41 42 43 44 45 46 47 48 49 50 51 "
     ]
    }
   ],
   "source": [
    "def palindrom(panjang):\n",
    "    if panjang>=1 and panjang%2==1:\n",
    "        mid=(panjang//2)+1\n",
    "        for i in range(mid,0,-1):\n",
    "            print(i, end=\" \")\n",
    "        for j in range(2,mid+1):\n",
    "            print(j,end=\" \")\n",
    "    else:\n",
    "        print(\"dimensi tidak sesuai\")\n",
    "        \n",
    "palindrom(101)"
   ]
  },
  {
   "cell_type": "code",
   "execution_count": 51,
   "metadata": {},
   "outputs": [
    {
     "name": "stdout",
     "output_type": "stream",
     "text": [
      "####\n",
      " ####\n"
     ]
    }
   ],
   "source": [
    "def jajargenjang(tinggi, panjang):\n",
    "    if (tinggi>=2)and(panjang>=2):\n",
    "        for i in range(tinggi):\n",
    "            for j in range(i):\n",
    "                print(\" \", end=\"\")\n",
    "            for z in range(panjang):\n",
    "                print(\"#\",end=\"\")\n",
    "            print()\n",
    "    else:\n",
    "        print(\"dimensi tidak sesuai\")\n",
    "jajargenjang(2,4)"
   ]
  },
  {
   "cell_type": "code",
   "execution_count": 19,
   "metadata": {},
   "outputs": [
    {
     "name": "stdout",
     "output_type": "stream",
     "text": [
      "###\n",
      "# #\n",
      "###\n"
     ]
    }
   ],
   "source": [
    "def pagar():\n",
    "    baris=int(input())\n",
    "    kolom=int(input())\n",
    "    if baris>1 and kolom>1:\n",
    "        for bariss in range(baris):\n",
    "            if bariss==0 or bariss==baris-1:\n",
    "                for _ in range(kolom):\n",
    "                    print(\"#\",end=\"\")\n",
    "            else:\n",
    "                for koloms in range(kolom):\n",
    "                    if koloms==0 or koloms==kolom-1:\n",
    "                        print(\"#\", end=\"\")\n",
    "                    else:\n",
    "                        print(\" \", end=\"\")\n",
    "            print()\n",
    "    else:\n",
    "        print(\"dimensi tidak sesuai\")\n",
    "pagar()"
   ]
  },
  {
   "cell_type": "code",
   "execution_count": 27,
   "metadata": {},
   "outputs": [
    {
     "name": "stdout",
     "output_type": "stream",
     "text": [
      "2 3 5 7 11 13 17 19 23 29 31 37 41 43 47 53 59 61 67 71 73 79 83 89 97 = 25\n"
     ]
    }
   ],
   "source": [
    "#menghitung banyaknya prima\n",
    "\n",
    "def sumPrime():\n",
    "    bawaH=int(input())\n",
    "    ataS=int(input())\n",
    "    if (bawaH>ataS) and (ataS>=2) :\n",
    "        prima=[]\n",
    "        count=0\n",
    "        for nums in range(ataS, bawaH+1):\n",
    "            for numss in range(2,int(nums**0.5)+1):\n",
    "                if nums%numss==0 :\n",
    "                    break\n",
    "            else:\n",
    "                prima.append(nums)\n",
    "                count+=1\n",
    "        print(*prima,count)\n",
    "    elif (ataS>bawaH) and (bawaH>=2) :\n",
    "        prima=[]\n",
    "        count=0\n",
    "        for nums in range(bawaH, ataS+1):\n",
    "            for numss in range(2,int(nums**0.5)+1):\n",
    "                if nums%numss==0 :\n",
    "                    break\n",
    "            else:\n",
    "                prima.append(nums)\n",
    "                count+=1\n",
    "        print(*prima,\"=\",count)\n",
    "    else:\n",
    "        print(\"ketentuan tidak sesuai\")\n",
    "        \n",
    "    \n",
    "sumPrime()"
   ]
  },
  {
   "cell_type": "code",
   "execution_count": 3,
   "metadata": {},
   "outputs": [
    {
     "name": "stdout",
     "output_type": "stream",
     "text": [
      "24400\n",
      "1200\n"
     ]
    }
   ],
   "source": [
    "def kalkulatorRusak(oper:str,num1,num2) :\n",
    "    num1=str(num1)\n",
    "    num2=str(num2)\n",
    "    rusak=int(num1+num2)\n",
    "    num2=int(num2)\n",
    "    if oper ==\"+\":\n",
    "        return rusak +num2\n",
    "    elif oper ==\"-\":\n",
    "        return rusak-num2\n",
    "    elif oper ==\"*\":\n",
    "        return rusak*num2\n",
    "    elif oper ==\"/\":\n",
    "        final= rusak/num2 if num2>0 else print(\"error\")\n",
    "        return final\n",
    "    else:\n",
    "        print(\"error\")\n",
    "\n",
    "print(kalkulatorRusak(\"*\",12,20))\n",
    "print(kalkulatorRusak(\"-\",12,20))"
   ]
  }
 ],
 "metadata": {
  "kernelspec": {
   "display_name": "Python 3",
   "language": "python",
   "name": "python3"
  },
  "language_info": {
   "codemirror_mode": {
    "name": "ipython",
    "version": 3
   },
   "file_extension": ".py",
   "mimetype": "text/x-python",
   "name": "python",
   "nbconvert_exporter": "python",
   "pygments_lexer": "ipython3",
   "version": "3.11.1"
  }
 },
 "nbformat": 4,
 "nbformat_minor": 2
}
