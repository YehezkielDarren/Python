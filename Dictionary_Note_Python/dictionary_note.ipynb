{
 "cells": [
  {
   "cell_type": "markdown",
   "metadata": {},
   "source": [
    "Determining the length of some dictionaries, type of the dictionaries"
   ]
  },
  {
   "cell_type": "code",
   "execution_count": 5,
   "metadata": {},
   "outputs": [
    {
     "name": "stdout",
     "output_type": "stream",
     "text": [
      "4\n",
      "<class 'dict'>\n",
      "<class 'str'>\n",
      "<class 'int'>\n"
     ]
    }
   ],
   "source": [
    "dictThis={\n",
    "    \"brand\": \"Ford\",\n",
    "    \"model\": \"Mustang\",\n",
    "    \"yearBorn\": 1964,\n",
    "    \"yearNow\": 2020\n",
    "}\n",
    "\n",
    "print(len(dictThis)) # ==()=> Output is 4 bcs each key has 1 length\n",
    "print(type(dictThis)) # it will show what data type is the dictionaries\n",
    "print(type(dictThis[\"brand\"])) # it will show what data type of \"brand\" key\n",
    "print(type(dictThis[\"yearNow\"])) # it will show what data type of \"yearNow\" key"
   ]
  }
 ],
 "metadata": {
  "kernelspec": {
   "display_name": "Python 3",
   "language": "python",
   "name": "python3"
  },
  "language_info": {
   "codemirror_mode": {
    "name": "ipython",
    "version": 3
   },
   "file_extension": ".py",
   "mimetype": "text/x-python",
   "name": "python",
   "nbconvert_exporter": "python",
   "pygments_lexer": "ipython3",
   "version": "3.11.1"
  }
 },
 "nbformat": 4,
 "nbformat_minor": 2
}
