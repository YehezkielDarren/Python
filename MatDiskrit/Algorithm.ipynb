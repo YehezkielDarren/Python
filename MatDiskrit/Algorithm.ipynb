{
 "cells": [
  {
   "cell_type": "markdown",
   "metadata": {},
   "source": [
    "Fibbonaci"
   ]
  },
  {
   "cell_type": "code",
   "execution_count": 37,
   "metadata": {},
   "outputs": [
    {
     "name": "stdout",
     "output_type": "stream",
     "text": [
      "1 1 2 3 5 8 13 21 34 55 "
     ]
    }
   ],
   "source": [
    "def fibo(n):\n",
    "    x=1\n",
    "    y=1\n",
    "    print(x,y, end=\" \")\n",
    "    for _ in range(2,n):\n",
    "        x,y=y,x+y\n",
    "        print(y, end=\" \")\n",
    "        \n",
    "fibo(10)"
   ]
  },
  {
   "cell_type": "markdown",
   "metadata": {},
   "source": [
    "Prime Numbers"
   ]
  },
  {
   "cell_type": "code",
   "execution_count": 17,
   "metadata": {},
   "outputs": [
    {
     "name": "stdout",
     "output_type": "stream",
     "text": [
      "2 3 5 7\n"
     ]
    }
   ],
   "source": [
    "def prime(n):\n",
    "    \"\"\"\n",
    "    Args:\n",
    "        n (int): Range of numbers\n",
    "    \"\"\"\n",
    "    if n <2:\n",
    "        print(0)\n",
    "    prime=[]\n",
    "    for i in range(2,n+1):\n",
    "        for j in range(2,int(i**0.5)+1):\n",
    "            if i%j==0:\n",
    "                break\n",
    "        else:\n",
    "            prime.append(i)\n",
    "    print(*prime)\n",
    "    \n",
    "prime(10)\n",
    "                \n",
    "    "
   ]
  },
  {
   "cell_type": "markdown",
   "metadata": {},
   "source": [
    "Max Deret  "
   ]
  },
  {
   "cell_type": "code",
   "execution_count": 27,
   "metadata": {},
   "outputs": [
    {
     "name": "stdout",
     "output_type": "stream",
     "text": [
      "3\n"
     ]
    }
   ],
   "source": [
    "def Max_deret(string :str, kata_yang_dicari:str)-> int:\n",
    "    string=string.lower()\n",
    "    max1=0\n",
    "    max2=0\n",
    "    for i in string:\n",
    "        if i == kata_yang_dicari:\n",
    "            max1+=1\n",
    "        else:\n",
    "            if max1>max2:\n",
    "                max2=max1\n",
    "                max1=0\n",
    "    return max2\n",
    "\n",
    "print(Max_deret(\"BbAAAAaaBBBACcD\",\"b\"))"
   ]
  },
  {
   "cell_type": "markdown",
   "metadata": {},
   "source": [
    "Alfabet berlebih"
   ]
  },
  {
   "cell_type": "code",
   "execution_count": 36,
   "metadata": {},
   "outputs": [
    {
     "name": "stdout",
     "output_type": "stream",
     "text": [
      "abcnbd\n"
     ]
    }
   ],
   "source": [
    "def hapus_alfa_berlebih(kata :str)-> str:\n",
    "    result=\"\"\n",
    "    char=None\n",
    "    for i in kata.lower():\n",
    "        if i != char :\n",
    "            result+=i\n",
    "        char=i\n",
    "    print(result)\n",
    "        \n",
    "\n",
    "hapus_alfa_berlebih(\"AAAAbbbBcnBBBddD\")"
   ]
  },
  {
   "cell_type": "markdown",
   "metadata": {},
   "source": [
    "Tribonacci"
   ]
  },
  {
   "cell_type": "code",
   "execution_count": 38,
   "metadata": {},
   "outputs": [
    {
     "name": "stdout",
     "output_type": "stream",
     "text": [
      "1 1 1 3 5 9 17 31 57 105\n"
     ]
    }
   ],
   "source": [
    "def tribo(n):\n",
    "    x=1\n",
    "    y=1\n",
    "    z=1\n",
    "    print(x,y,end=\" \")\n",
    "    for i in range(3,n):\n",
    "        print(z, end=\" \")\n",
    "        x,y,z=y,z,x+y+z\n",
    "    print(z)\n",
    "    \n",
    "tribo(10)"
   ]
  },
  {
   "cell_type": "markdown",
   "metadata": {},
   "source": [
    "Ganjil Genap Tribbonaci"
   ]
  },
  {
   "cell_type": "code",
   "execution_count": 44,
   "metadata": {},
   "outputs": [
    {
     "name": "stdout",
     "output_type": "stream",
     "text": [
      "0 1 1 2 4 7 13 24 44 81 149 274 504 927 1705 3136 5768 10609 19513 35890\n",
      "10 10\n"
     ]
    }
   ],
   "source": [
    "def odd_even(n)-> bool:\n",
    "    if n%2!=1: #Genap\n",
    "        return True\n",
    "    else: #Ganjil\n",
    "        return False\n",
    "\n",
    "def tribo(n):\n",
    "    x=0\n",
    "    y=1\n",
    "    z=1\n",
    "    ganjil=2\n",
    "    genap=1\n",
    "    print(x,y,end=\" \")\n",
    "    for i in range(3,n):\n",
    "        print(z, end=\" \")\n",
    "        x,y,z=y,z,x+y+z\n",
    "        if odd_even(z)==True:\n",
    "            genap+=1\n",
    "        else:\n",
    "            ganjil+=1\n",
    "    print(z)\n",
    "    print(ganjil,genap)\n",
    "\n",
    "tribo(20)"
   ]
  },
  {
   "cell_type": "markdown",
   "metadata": {},
   "source": [
    "UTS"
   ]
  },
  {
   "cell_type": "code",
   "execution_count": 65,
   "metadata": {},
   "outputs": [
    {
     "name": "stdout",
     "output_type": "stream",
     "text": [
      "8\n"
     ]
    }
   ],
   "source": [
    "def UTS300322(n):\n",
    "    if One(n)==1:\n",
    "        return 1\n",
    "    else:\n",
    "        x=1\n",
    "        y=2\n",
    "        for i in range(n):\n",
    "            x,y=y,x*y\n",
    "        return y\n",
    "\n",
    "def One(n):\n",
    "    if n-11>15:\n",
    "        return 1\n",
    "    else:\n",
    "        return 2\n",
    "print(UTS300322(3))"
   ]
  },
  {
   "cell_type": "markdown",
   "metadata": {},
   "source": [
    "Prime x"
   ]
  },
  {
   "cell_type": "code",
   "execution_count": 69,
   "metadata": {},
   "outputs": [
    {
     "name": "stdout",
     "output_type": "stream",
     "text": [
      "2 3 5 7 11 13 17 19 23 29 31 37 41 43 47 53 59 61 67 71 73 79 83 89 97 101 103 107 109 113 127 131 137 139 149 151 157 163 167 173 179 181 191 193 197 199\n",
      "Jumlah dari 200 suku adalah 4227\n",
      "Banyak yang ganjil : 45; Genap : 1\n"
     ]
    }
   ],
   "source": [
    "def primeNsum(n):\n",
    "    x=0\n",
    "    y=[]\n",
    "    odd=0\n",
    "    even=0\n",
    "    if n<2:\n",
    "        return 0,x\n",
    "    for i in range(2,n+1):\n",
    "        for j in range(2,int(i**0.5)+1):\n",
    "            if i%j==0:\n",
    "                break\n",
    "        else:\n",
    "            x+=i\n",
    "            y.append(i)\n",
    "            if odd_even(i)==True:\n",
    "                even+=1\n",
    "            else:\n",
    "                odd+=1 \n",
    "    return y,x,odd,even\n",
    "\n",
    "def odd_even(n)-> bool:\n",
    "    if n%2!=1: #Genap\n",
    "        return True\n",
    "    else: #Ganjil\n",
    "        return False\n",
    "a=int(input())\n",
    "prima,sum,odd,even=primeNsum(a)\n",
    "print(*prima)\n",
    "print(f\"Jumlah dari {a} suku adalah {sum}\")\n",
    "print(f\"Banyak yang ganjil : {odd}; Genap : {even}\")\n",
    "\n"
   ]
  },
  {
   "cell_type": "markdown",
   "metadata": {},
   "source": [
    "Soal Algoritma UTS 30 Maret 2022"
   ]
  },
  {
   "cell_type": "code",
   "execution_count": null,
   "metadata": {},
   "outputs": [],
   "source": [
    "def satu(b,n,m):\n",
    "    s=2\n",
    "    y,x,s=dua(n,s),1,m\n",
    "    w=tiga(b,s)\n",
    "    \n",
    "    pass\n",
    "def dua(n,s):\n",
    "    pass\n",
    "def tiga(p,s):\n",
    "    pass\n",
    "def empat(p,s):\n",
    "    pass"
   ]
  },
  {
   "cell_type": "markdown",
   "metadata": {},
   "source": [
    "Belah Ketupat"
   ]
  },
  {
   "cell_type": "code",
   "execution_count": 98,
   "metadata": {},
   "outputs": [
    {
     "name": "stdout",
     "output_type": "stream",
     "text": [
      "##\n",
      " ##\n",
      "  ##\n",
      "   ##\n",
      "    ##\n",
      "\n",
      "    #\n",
      "   ##\n",
      "  ###\n",
      " ####\n",
      "#####\n",
      "\n",
      "3\n"
     ]
    }
   ],
   "source": [
    "baris=int(input())\n",
    "kolom=int(input())\n",
    "\n",
    "for i in range(baris):\n",
    "    print(\" \"*i, end=\"\")\n",
    "    for j in range(kolom):\n",
    "        print(\"#\",end=\"\")\n",
    "    print()\n",
    "print()\n",
    "for i in range(1,baris+1):\n",
    "    for j in range(baris,0,-1):\n",
    "        if j>i:\n",
    "            print(\" \",end=\"\")\n",
    "        else:\n",
    "            print(\"#\",end=\"\")\n",
    "    print()"
   ]
  },
  {
   "cell_type": "code",
   "execution_count": 104,
   "metadata": {},
   "outputs": [
    {
     "name": "stdout",
     "output_type": "stream",
     "text": [
      "Palindrom :D\n"
     ]
    }
   ],
   "source": [
    "def palindrom(string:str):\n",
    "    string=string.lower()\n",
    "    string=\"\".join([i for i in string if i.isalnum()])\n",
    "    for i in range(len(string)//2):\n",
    "        if string[i]!=string[-i-1]:\n",
    "            print(\"Not Palindrom!!!\")\n",
    "            break\n",
    "    else:\n",
    "        print(\"Palindrom :D\")\n",
    "        \n",
    "    \n",
    "palindrom(\"kasur saya ayas!RuSak\")"
   ]
  }
 ],
 "metadata": {
  "kernelspec": {
   "display_name": "Python 3",
   "language": "python",
   "name": "python3"
  },
  "language_info": {
   "codemirror_mode": {
    "name": "ipython",
    "version": 3
   },
   "file_extension": ".py",
   "mimetype": "text/x-python",
   "name": "python",
   "nbconvert_exporter": "python",
   "pygments_lexer": "ipython3",
   "version": "3.11.1"
  }
 },
 "nbformat": 4,
 "nbformat_minor": 2
}
