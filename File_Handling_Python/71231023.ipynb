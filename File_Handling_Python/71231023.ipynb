{
 "cells": [
  {
   "cell_type": "markdown",
   "metadata": {},
   "source": [
    "Latihan 1"
   ]
  },
  {
   "cell_type": "code",
   "execution_count": 2,
   "metadata": {},
   "outputs": [
    {
     "name": "stdout",
     "output_type": "stream",
     "text": [
      "Baris -> 1\n",
      "Baris -> 2\n",
      "Jumlah kata per baris berbeda :\n",
      "\t'contoh1.txt' : 8 kata\n",
      "\t'contoh2.txt' : 9 kata\n",
      "Perbedaan kata per baris : \n",
      "\t'contoh1.txt' : 50%.\n",
      "\t'contoh2.txt' : from,94%.\n",
      "Baris -> 3\n",
      "Jumlah kata per baris berbeda :\n",
      "\t'contoh1.txt' : 7 kata\n",
      "\t'contoh2.txt' : 8 kata\n",
      "Perbedaan kata per baris : \n",
      "\t'contoh1.txt' : \n",
      "\t'contoh2.txt' : from\n",
      "Baris -> 4\n",
      "Perbedaan kata per baris : \n",
      "\t'contoh1.txt' : 89%\n",
      "\t'contoh2.txt' : 87%\n",
      "Baris -> 5\n",
      "Baris -> 6\n",
      "Jumlah kata per baris berbeda :\n",
      "\t'contoh1.txt' : 27 kata\n",
      "\t'contoh2.txt' : 11 kata\n",
      "Perbedaan kata per baris : \n",
      "\t'contoh1.txt' : i,like,computer,science,since,i,was,in,school,and,i,have,been,interested,in,automation,whcih,motivated,to,pursue,education,in,this,domain.\n",
      "\t'contoh2.txt' : strength,is,optimistic,approach,that,drives,forward.\n",
      "Baris -> 7\n",
      "Jumlah kata per baris berbeda :\n",
      "\t'contoh1.txt' : 11 kata\n",
      "\t'contoh2.txt' : 8 kata\n",
      "Perbedaan kata per baris : \n",
      "\t'contoh1.txt' : my,strength,is,my,optimistic,approach,that,always,drives,me,forward.\n",
      "\t'contoh2.txt' : the,leadersip,skills,and,adaptability,to,any,situation.\n",
      "Baris -> 8\n",
      "Jumlah kata per baris berbeda :\n",
      "\t'contoh1.txt' : 8 kata\n",
      "\t'contoh2.txt' : 21 kata\n",
      "Perbedaan kata per baris : \n",
      "\t'contoh1.txt' : leadersip,skills,adaptability,any,situation.\n",
      "\t'contoh2.txt' : my,goal,is,be,a,key,personality,in,world,of,automation,leading,organization,in,this,domain.\n",
      "Baris -> 9\n",
      "Jumlah kata per baris berbeda :\n",
      "\t'contoh1.txt' : 21 kata\n",
      "\t'contoh2.txt' : 4 kata\n",
      "Perbedaan kata per baris : \n",
      "\t'contoh1.txt' : my,goal,is,to,to,be,a,key,personality,in,the,world,of,automation,and,leading,the,organization,in,this,domain.\n",
      "\t'contoh2.txt' : thats,all,about,me\n",
      "Baris -> 10\n",
      "Jumlah kata per baris berbeda :\n",
      "\t'contoh1.txt' : 4 kata\n",
      "\t'contoh2.txt' : 10 kata\n",
      "Perbedaan kata per baris : \n",
      "\t'contoh1.txt' : thats,all,about\n",
      "\t'contoh2.txt' : thanks,a,lot,for,giving,such,a,great,opportunity.\n",
      "Baris -> 11\n",
      "File Doesn't Exist!!!\n"
     ]
    }
   ],
   "source": [
    "def cek_File(a,b):\n",
    "    try:\n",
    "        with open(a) as f1, open(b) as f2:\n",
    "            handle1, handle2= f1.readlines(), f2.readlines()\n",
    "        for line in range(max(len(handle1),len(handle2))):\n",
    "            baris=line+1 \n",
    "            print(f\"Baris -> {baris}\")\n",
    "            #perbedaan banyak kata\n",
    "            count1=0 #menghitung banyaknya kata di file 1 dalam satu baris\n",
    "            for _ in handle1[line].split():\n",
    "                count1+=1\n",
    "            count2=0 #menghitung banyaknya kata di file 1 dalam satu baris\n",
    "            for _ in handle2[line].split():\n",
    "                count2+=1\n",
    "            if count1!=count2:\n",
    "                print(f\"Jumlah kata per baris berbeda :\")\n",
    "                print(f\"\\t'{a}' : {count1} kata\")\n",
    "                print(f\"\\t'{b}' : {count2} kata\")\n",
    "                \n",
    "            #perbedaan kata per kata\n",
    "            if handle1[line]!=handle2[line]:\n",
    "                print(f\"Perbedaan kata per baris : \")\n",
    "                file1,file2= handle1[line].lower().split(), handle2[line].lower().split()\n",
    "                kata_file1=[]\n",
    "                kata_file2=[]\n",
    "                for i in file1:\n",
    "                    if i not in file2:\n",
    "                        kata_file1.append(i)\n",
    "                for y in file2:\n",
    "                    if y not in file1:\n",
    "                        kata_file2.append(y)\n",
    "                kata_file1=\",\".join(i for i in kata_file1)\n",
    "                kata_file2=\",\".join(i for i in kata_file2)\n",
    "                print(f\"\\t'{a}' : {kata_file1}\")\n",
    "                print(f\"\\t'{b}' : {kata_file2}\")\n",
    "    except:\n",
    "        print(\"File Doesn't Exist!!!\")\n",
    "\n",
    "file_1=input(\"Nama File Pertama : \")\n",
    "file_2=input(\"Nama File Kedua : \")\n",
    "cek_File(file_1,file_2)"
   ]
  },
  {
   "cell_type": "markdown",
   "metadata": {},
   "source": [
    "Latihan 2"
   ]
  },
  {
   "cell_type": "code",
   "execution_count": 45,
   "metadata": {},
   "outputs": [
    {
     "name": "stdout",
     "output_type": "stream",
     "text": [
      "Soal ke-1\n",
      "1+1 = 2\n",
      "->Tebakan Anda Benar !!\n",
      "\n",
      "Soal ke-2\n",
      "Bendera Indonesia? merah putih\n",
      "->Tebakan Anda Benar !!\n",
      "\n",
      "Soal ke-3\n",
      "Kota gudeg adalah: yogyakarta\n",
      "->Tebakan Anda Benar !!\n",
      "\n",
      "Soal ke-4\n",
      "Komponen PC untuk penyimpanan file adalah... \n",
      "->Tebakan Anda Salah !!\n",
      "\n",
      "Soal ke-5\n",
      "50 * 20 = 1000\n",
      "->Tebakan Anda Benar !!\n",
      "\n"
     ]
    }
   ],
   "source": [
    "def latihanSoal():\n",
    "    try:\n",
    "        fileSoal=input(\"Nama File Soal : \")\n",
    "        with open(fileSoal,\"r\") as f :\n",
    "            handle=f.readlines()\n",
    "        for i,word in enumerate(handle):\n",
    "            print(f\"Soal ke-{i+1}\")\n",
    "            soal, jawaban= word.strip().split('|| ')         \n",
    "            print(soal, end=\"\")\n",
    "            #tebakan\n",
    "            tebakan=input(f\"Jawaban anda: \").lower()\n",
    "            print(tebakan)\n",
    "            print(\"->\",end=\"\")\n",
    "            if tebakan==jawaban.lower():\n",
    "                print(\"Tebakan Anda Benar !!\")\n",
    "            else:\n",
    "                print(\"Tebakan Anda Salah !!\")\n",
    "            print()\n",
    "    except:\n",
    "        print(\"File doesn't exist !!\")\n",
    "\n",
    "latihanSoal()"
   ]
  }
 ],
 "metadata": {
  "kernelspec": {
   "display_name": "Python 3",
   "language": "python",
   "name": "python3"
  },
  "language_info": {
   "codemirror_mode": {
    "name": "ipython",
    "version": 3
   },
   "file_extension": ".py",
   "mimetype": "text/x-python",
   "name": "python",
   "nbconvert_exporter": "python",
   "pygments_lexer": "ipython3",
   "version": "3.11.1"
  }
 },
 "nbformat": 4,
 "nbformat_minor": 2
}
